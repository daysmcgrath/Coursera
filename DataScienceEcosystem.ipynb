{
 "cells": [
  {
   "cell_type": "markdown",
   "id": "566f1649-7c15-49a9-a794-217dfd5c9cf1",
   "metadata": {},
   "source": [
    "# Data Science Tools and Ecosystem"
   ]
  },
  {
   "cell_type": "markdown",
   "id": "9b035526-85db-417c-b34c-cb78dba8f261",
   "metadata": {},
   "source": [
    "In this notebook, Data Science Tools and Ecosystem are summarized."
   ]
  },
  {
   "cell_type": "markdown",
   "id": "067cdec7-21a7-420b-a9ee-d69e9ed61e3a",
   "metadata": {},
   "source": [
    "**Objectives:**\n",
    "\n",
    "- Understand the importance of data science in solving real-world problems.\n",
    "- List popular languages for Data Science.\n",
    "- Explore commonly used data science libraries.\n",
    "- Learn development environment tools used in data science.\n",
    "- Practice evaluating arithmetic expressions in Python.\n"
   ]
  },
  {
   "cell_type": "markdown",
   "id": "adc7638a-d5a4-45ad-84ef-3093595a3bfc",
   "metadata": {},
   "source": [
    "Some of the popular languages that Data Scientists use are:\n",
    "\n",
    "1. Python\n",
    "2. R\n",
    "3. SQL\n",
    "4. Julia\n",
    "5. Scala\n"
   ]
  },
  {
   "cell_type": "markdown",
   "id": "deba3a97-6032-4c72-928b-6b911091c0eb",
   "metadata": {},
   "source": [
    "Some of the commonly used libraries used by Data Scientists include:\n",
    "\n",
    "1. NumPy\n",
    "2. Pandas\n",
    "3. Scikit-learn\n",
    "4. Matplotlib\n",
    "5. TensorFlow\n"
   ]
  },
  {
   "cell_type": "markdown",
   "id": "4d1dfd19-e824-4575-8f4d-935d27e2b759",
   "metadata": {},
   "source": [
    "| Data Science Tools         |\n",
    "|-----------------------------|\n",
    "| Jupyter Notebook           |\n",
    "| RStudio                    |\n",
    "| Apache Zeppelin            |\n"
   ]
  },
  {
   "cell_type": "markdown",
   "id": "b41df8d2-f4cc-42dc-8a1e-89183d04bd99",
   "metadata": {},
   "source": [
    "### Below are a few examples of evaluating arithmetic expressions in Python.\n"
   ]
  },
  {
   "cell_type": "code",
   "execution_count": 1,
   "id": "637929cb-4d94-49d3-b32d-b6b8141e7358",
   "metadata": {},
   "outputs": [
    {
     "data": {
      "text/plain": [
       "17"
      ]
     },
     "execution_count": 1,
     "metadata": {},
     "output_type": "execute_result"
    }
   ],
   "source": [
    "# This a simple arithmetic expression to mutiply then add integers\n",
    "(3*4)+5"
   ]
  },
  {
   "cell_type": "code",
   "execution_count": 2,
   "id": "87c97933-3877-4b84-9bf5-a15b275a745b",
   "metadata": {},
   "outputs": [
    {
     "data": {
      "text/plain": [
       "3.3333333333333335"
      ]
     },
     "execution_count": 2,
     "metadata": {},
     "output_type": "execute_result"
    }
   ],
   "source": [
    "# This will convert 200 minutes to hours by diving by 60\n",
    "minutes = 200\n",
    "hours = minutes / 60\n",
    "hours"
   ]
  },
  {
   "cell_type": "markdown",
   "id": "f88f6b55-66ab-4319-9e58-ece30ed2a2a0",
   "metadata": {},
   "source": [
    "## Author\n",
    "\n",
    "Daisy McGrath\n"
   ]
  },
  {
   "cell_type": "code",
   "execution_count": null,
   "id": "e495097a-5810-44de-b569-3c3ed961bde0",
   "metadata": {},
   "outputs": [],
   "source": []
  }
 ],
 "metadata": {
  "kernelspec": {
   "display_name": "Python 3 (ipykernel)",
   "language": "python",
   "name": "python3"
  },
  "language_info": {
   "codemirror_mode": {
    "name": "ipython",
    "version": 3
   },
   "file_extension": ".py",
   "mimetype": "text/x-python",
   "name": "python",
   "nbconvert_exporter": "python",
   "pygments_lexer": "ipython3",
   "version": "3.12.8"
  }
 },
 "nbformat": 4,
 "nbformat_minor": 5
}
